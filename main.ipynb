{
 "cells": [
  {
   "cell_type": "markdown",
   "metadata": {},
   "source": [
    "## **Multi-Class Image Classification**"
   ]
  },
  {
   "cell_type": "markdown",
   "metadata": {},
   "source": [
    "- **Data Preparation with OpenCV and NumPy**"
   ]
  },
  {
   "cell_type": "code",
   "execution_count": null,
   "metadata": {},
   "outputs": [],
   "source": [
    "import numpy as np\n",
    "import pickle\n",
    "import os\n",
    "from tensorflow.keras.utils import to_categorical\n",
    "from tensorflow.keras.preprocessing.image import ImageDataGenerator\n",
    "\n",
    "def unpickle(file):\n",
    "    with open(file, 'rb') as fo:\n",
    "        dict = pickle.load(fo, encoding='bytes')\n",
    "    return dict\n",
    "\n",
    "def load_cifar10_data(data_dir):\n",
    "    train_data = []\n",
    "    train_labels = []\n",
    "    for batch in range(1, 6):\n",
    "        batch_data = unpickle(os.path.join(data_dir, f'data_batch_{batch}'))\n",
    "        train_data.append(batch_data[b'data'])\n",
    "        train_labels.extend(batch_data[b'labels'])\n",
    "    \n",
    "    train_data = np.concatenate(train_data)\n",
    "    train_data = train_data.reshape((50000, 3, 32, 32)).transpose(0, 2, 3, 1)\n",
    "    train_labels = np.array(train_labels)\n",
    "    \n",
    "    test_data = unpickle(os.path.join(data_dir, 'test_batch'))\n",
    "    test_images = test_data[b'data'].reshape((10000, 3, 32, 32)).transpose(0, 2, 3, 1)\n",
    "    test_labels = np.array(test_data[b'labels'])\n",
    "    \n",
    "    return (train_data, train_labels), (test_images, test_labels)\n",
    "\n",
    "data_dir = 'data'\n",
    "(train_images, train_labels), (test_images, test_labels) = load_cifar10_data(data_dir)\n",
    "\n",
    "\n",
    "train_images = train_images.astype('float32') / 255.0\n",
    "test_images = test_images.astype('float32') / 255.0\n",
    "\n",
    "\n",
    "train_labels = to_categorical(train_labels, 10)\n",
    "test_labels = to_categorical(test_labels, 10)\n",
    "\n",
    "\n",
    "datagen = ImageDataGenerator(\n",
    "    rotation_range=15,\n",
    "    width_shift_range=0.1,\n",
    "    height_shift_range=0.1,\n",
    "    horizontal_flip=True\n",
    ")\n",
    "\n",
    "datagen.fit(train_images)\n",
    "\n",
    "print('Training data shape:', train_images.shape)\n"
   ]
  },
  {
   "cell_type": "markdown",
   "metadata": {},
   "source": [
    "- **Extracting Local Features of the Images**"
   ]
  },
  {
   "cell_type": "code",
   "execution_count": null,
   "metadata": {},
   "outputs": [],
   "source": [
    "import cv2\n",
    "from skimage.feature import hog, local_binary_pattern\n",
    "\n",
    "def extract_hog_features(images):\n",
    "    hog_features = []\n",
    "    for img in images:\n",
    "        gray_img = cv2.cvtColor(img, cv2.COLOR_RGB2GRAY)\n",
    "        hog_feature = hog(gray_img, block_norm='L2-Hys')\n",
    "        hog_features.append(hog_feature)\n",
    "    return np.array(hog_features)\n",
    "\n",
    "def extract_lbp_features(images):\n",
    "    lbp_features = []\n",
    "    for img in images:\n",
    "        gray_img = cv2.cvtColor(img, cv2.COLOR_RGB2GRAY)\n",
    "        lbp_feature = local_binary_pattern(gray_img, P=8, R=1, method='uniform')\n",
    "        lbp_feature = np.histogram(lbp_feature, bins=np.arange(257), density=True)[0]\n",
    "        lbp_features.append(lbp_feature)\n",
    "    return np.array(lbp_features)\n",
    "\n",
    "# Extract HOG features\n",
    "train_hog_features = extract_hog_features(train_images)\n",
    "test_hog_features = extract_hog_features(test_images)\n",
    "\n",
    "# Extract LBP features\n",
    "train_lbp_features = extract_lbp_features(train_images)\n",
    "test_lbp_features = extract_lbp_features(test_images)\n",
    "\n"
   ]
  },
  {
   "cell_type": "markdown",
   "metadata": {},
   "source": [
    "- **Training Model on Dataset**"
   ]
  },
  {
   "cell_type": "code",
   "execution_count": null,
   "metadata": {},
   "outputs": [],
   "source": [
    "# Using VGG16 for deep feature extraction\n",
    "from tensorflow.keras.applications import VGG16\n",
    "from tensorflow.keras.models import Model\n",
    "\n",
    "# Load pre-trained VGG16 model + higher level layers\n",
    "base_model = VGG16(weights='imagenet', include_top=False, input_shape=(32, 32, 3))\n",
    "\n",
    "# Extract features\n",
    "train_cnn_features = base_model.predict(train_images)\n",
    "test_cnn_features = base_model.predict(test_images)\n",
    "\n",
    "# Flatten the features for SVM\n",
    "train_cnn_features = train_cnn_features.reshape((train_cnn_features.shape[0], -1))\n",
    "test_cnn_features = test_cnn_features.reshape((test_cnn_features.shape[0], -1))"
   ]
  },
  {
   "cell_type": "markdown",
   "metadata": {},
   "source": [
    "- **Applying PCA**"
   ]
  },
  {
   "cell_type": "code",
   "execution_count": null,
   "metadata": {},
   "outputs": [],
   "source": [
    "from sklearn.decomposition import PCA\n",
    "\n",
    "pca = PCA(n_components=256)\n",
    "train_pca = pca.fit_transform(train_cnn_features)\n",
    "test_pca = pca.transform(test_cnn_features)"
   ]
  },
  {
   "cell_type": "markdown",
   "metadata": {},
   "source": [
    "- **Evaluating Model**"
   ]
  },
  {
   "cell_type": "code",
   "execution_count": null,
   "metadata": {},
   "outputs": [],
   "source": [
    "from sklearn.svm import SVC\n",
    "from sklearn.metrics import accuracy_score, precision_score, recall_score, f1_score\n",
    "\n",
    "# SVM Classifier with RBF kernel\n",
    "svm_rbf = SVC(kernel='rbf', C=1, gamma='scale')\n",
    "svm_rbf.fit(train_pca, train_labels.argmax(axis=1))\n",
    "\n",
    "# Predictions\n",
    "test_pred = svm_rbf.predict(test_pca)\n",
    "\n",
    "# Evaluation\n",
    "accuracy = accuracy_score(test_labels.argmax(axis=1), test_pred)\n",
    "precision = precision_score(test_labels.argmax(axis=1), test_pred, average='weighted')\n",
    "recall = recall_score(test_labels.argmax(axis=1), test_pred, average='weighted')\n",
    "f1 = f1_score(test_labels.argmax(axis=1), test_pred, average='weighted')\n",
    "\n",
    "print(f\"SVM Test accuracy: {accuracy * 100:.2f}%\")\n",
    "print(f\"SVM Precision: {precision:.2f}\")\n",
    "print(f\"SVM Recall: {recall:.2f}\")\n",
    "print(f\"SVM F1-Score: {f1:.2f}\")\n"
   ]
  },
  {
   "cell_type": "markdown",
   "metadata": {},
   "source": [
    "- **Saving Trained Model**"
   ]
  },
  {
   "cell_type": "code",
   "execution_count": null,
   "metadata": {},
   "outputs": [],
   "source": [
    "import pickle\n",
    "\n",
    "# Assume `svm_rbf`, `pca` are your trained SVM model and PCA object\n",
    "with open('svm_model.pkl', 'wb') as f:\n",
    "    pickle.dump(svm_rbf, f)\n",
    "\n",
    "with open('pca_object.pkl', 'wb') as f:\n",
    "    pickle.dump(pca, f)"
   ]
  }
 ],
 "metadata": {
  "kernelspec": {
   "display_name": "venv",
   "language": "python",
   "name": "python3"
  },
  "language_info": {
   "codemirror_mode": {
    "name": "ipython",
    "version": 3
   },
   "file_extension": ".py",
   "mimetype": "text/x-python",
   "name": "python",
   "nbconvert_exporter": "python",
   "pygments_lexer": "ipython3",
   "version": "3.11.9"
  }
 },
 "nbformat": 4,
 "nbformat_minor": 2
}
